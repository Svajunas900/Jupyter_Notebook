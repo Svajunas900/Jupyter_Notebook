{
 "cells": [
  {
   "cell_type": "code",
   "execution_count": null,
   "id": "6fec581c-82ad-4a73-8987-f8c5ad244272",
   "metadata": {},
   "outputs": [],
   "source": []
  }
 ],
 "metadata": {
  "kernelspec": {
   "display_name": "",
   "name": ""
  },
  "language_info": {
   "name": ""
  }
 },
 "nbformat": 4,
 "nbformat_minor": 5
}
