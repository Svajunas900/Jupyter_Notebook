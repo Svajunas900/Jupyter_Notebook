{
 "cells": [
  {
   "cell_type": "code",
   "execution_count": 2,
   "id": "6fec581c-82ad-4a73-8987-f8c5ad244272",
   "metadata": {},
   "outputs": [],
   "source": [
    "def recursive_fibo(user_input):\n",
    "    if user_input < 2:\n",
    "        return user_input\n",
    "    return recursive_fibo(user_input-2) + recursive_fibo(user_input-1)"
   ]
  },
  {
   "cell_type": "code",
   "execution_count": 3,
   "id": "dbb4f63b-6c02-4d8a-8b08-6c5fc93ff738",
   "metadata": {},
   "outputs": [
    {
     "data": {
      "text/plain": [
       "55"
      ]
     },
     "execution_count": 3,
     "metadata": {},
     "output_type": "execute_result"
    }
   ],
   "source": [
    "recursive_fibo(10)"
   ]
  },
  {
   "cell_type": "code",
   "execution_count": null,
   "id": "21a01fed-cf32-4282-a159-40f8379edfe6",
   "metadata": {},
   "outputs": [],
   "source": []
  }
 ],
 "metadata": {
  "kernelspec": {
   "display_name": "Python 3 (ipykernel)",
   "language": "python",
   "name": "python3"
  },
  "language_info": {
   "codemirror_mode": {
    "name": "ipython",
    "version": 3
   },
   "file_extension": ".py",
   "mimetype": "text/x-python",
   "name": "python",
   "nbconvert_exporter": "python",
   "pygments_lexer": "ipython3",
   "version": "3.10.0"
  }
 },
 "nbformat": 4,
 "nbformat_minor": 5
}
